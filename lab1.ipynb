{
  "nbformat": 4,
  "nbformat_minor": 0,
  "metadata": {
    "colab": {
      "provenance": []
    },
    "kernelspec": {
      "name": "python3",
      "display_name": "Python 3"
    },
    "language_info": {
      "name": "python"
    }
  },
  "cells": [
    {
      "cell_type": "code",
      "execution_count": null,
      "metadata": {
        "id": "1aG6LxhAdi1_"
      },
      "outputs": [],
      "source": [
        "Graph Search Agent\n",
        "The graph search agent requires an environment to define the following\n",
        "Start State\n",
        "Goal State\n",
        "Possible Actions\n",
        "\n",
        "We have to make a generalised agent, which reaches the goal state using the functions of the environment. Our agent will use BFS/DFS to reach to the goal state\n"
      ]
    },
    {
      "cell_type": "code",
      "source": [
        "import numpy as np\n",
        "import sys\n",
        "from time import time"
      ],
      "metadata": {
        "id": "fNJb-W4QdmBt"
      },
      "execution_count": 1,
      "outputs": []
    },
    {
      "cell_type": "code",
      "source": [
        "class Node:\n",
        "    def __init__(self, parent, state, pcost, hcost):\n",
        "        \n",
        "        self.parent = parent\n",
        "        self.state = state\n",
        "        self.pcost = pcost\n",
        "        self.hcost = hcost\n",
        "        self.cost = pcost + hcost\n",
        "    \n",
        "    def __hash__(self):\n",
        "        \n",
        "        return hash(''.join(self.state.flatten()))\n",
        "    \n",
        "    def __str__(self):\n",
        "        return str(self.state)\n",
        "    \n",
        "    def __eq__(self, other):\n",
        "        \n",
        "        return hash(''.join(self.state.flatten())) == hash(''.join(other.state.flatten())) \n",
        "    \n",
        "    def __ne__(self, other):\n",
        "        return hash(''.join(self.state.flatten())) != hash(''.join(other.state.flatten()))"
      ],
      "metadata": {
        "id": "HrCnEVutduPO"
      },
      "execution_count": 2,
      "outputs": []
    },
    {
      "cell_type": "code",
      "source": [
        "class PriorityQueue():\n",
        "    \n",
        "    def __init__(self):\n",
        "        self.queue = []\n",
        "        \n",
        "    def push(self, node):\n",
        "        self.queue.append(node)\n",
        "    \n",
        "    def pop(self):\n",
        "        \n",
        "        next_state = None\n",
        "        state_cost = 10**18\n",
        "        index = -1\n",
        "        \n",
        "        for i in range(len(self.queue)):\n",
        "            \n",
        "            if self.queue[i].cost<state_cost:\n",
        "                state_cost = self.queue[i].cost\n",
        "                index = i\n",
        "        \n",
        "        return self.queue.pop(index)\n",
        "    \n",
        "    def is_empty(self):\n",
        "        \n",
        "        return len(self.queue)==0\n",
        "    \n",
        "    def __str__(self):\n",
        "        l = []\n",
        "        for i in self.queue:\n",
        "            l.append(i.state)\n",
        "        \n",
        "        return str(l)\n",
        "    \n",
        "    def __len__(self):\n",
        "        return len(self.queue)"
      ],
      "metadata": {
        "id": "fF_ERGt_dwKX"
      },
      "execution_count": 3,
      "outputs": []
    },
    {
      "cell_type": "code",
      "source": [
        "class Environment():\n",
        "    \n",
        "    def __init__(self, depth = None, goal_state = None):\n",
        "        self.actions = [1,2,3,4] #1 - Up, 2 - Down, 3 - Right, 4 - Left\n",
        "        self.goal_state = goal_state\n",
        "        self.depth = depth\n",
        "        self.start_state = self.generate_start_state()\n",
        "    \n",
        "    def generate_start_state(self):\n",
        "        \n",
        "        past_state = self.goal_state\n",
        "        i=0\n",
        "        while i!= self.depth:\n",
        "            new_states = self.get_next_states(past_state)\n",
        "            choice = np.random.randint(low=0, high=len(new_states))\n",
        "            \n",
        "            if np.array_equal(new_states[choice], past_state):\n",
        "                continue\n",
        "            \n",
        "            past_state = new_states[choice]\n",
        "            i+=1\n",
        "            \n",
        "        return past_state\n",
        "    \n",
        "    def get_start_state(self):\n",
        "        return self.start_state\n",
        "    \n",
        "    def get_goal_state(self):\n",
        "        return self.goal_state\n",
        "    \n",
        "    def get_next_states(self, state):\n",
        "        \n",
        "        space = (0,0)\n",
        "        for i in range(3):\n",
        "            for j in range(3):\n",
        "                if state[i,j] == '_':\n",
        "                    space = (i,j)\n",
        "                    break\n",
        "        \n",
        "        new_states = []\n",
        "        \n",
        "        if space[0] > 0:# Move Up\n",
        "            new_state = np.copy(state)\n",
        "            \n",
        "            val = new_state[space[0], space[1]]\n",
        "            new_state[space[0], space[1]]  = new_state[space[0]-1, space[1]]\n",
        "            new_state[space[0]-1, space[1]] = val\n",
        "            \n",
        "            new_states.append(new_state)\n",
        "            \n",
        "        if space[0] < 2: #Move down\n",
        "            new_state = np.copy(state)\n",
        "            \n",
        "            val = new_state[space[0], space[1]]\n",
        "            new_state[space[0], space[1]]  = new_state[space[0]+1, space[1]]\n",
        "            new_state[space[0]+1, space[1]] = val\n",
        "            \n",
        "            new_states.append(new_state)\n",
        "        \n",
        "        if space[1]<2: #Move right\n",
        "            new_state = np.copy(state)\n",
        "            \n",
        "            val = new_state[space[0], space[1]]\n",
        "            new_state[space[0], space[1]] = new_state[space[0], space[1]+1]\n",
        "            new_state[space[0], space[1]+1] = val\n",
        "            \n",
        "            new_states.append(new_state)\n",
        "            \n",
        "        if space[1] > 0: #Move Left\n",
        "            new_state = np.copy(state)\n",
        "            \n",
        "            val = new_state[space[0], space[1]]\n",
        "            new_state[space[0], space[1]] = new_state[space[0], space[1]-1]\n",
        "            new_state[space[0], space[1]-1] = val\n",
        "            \n",
        "            new_states.append(new_state)\n",
        "        \n",
        "        return new_states\n",
        "    \n",
        "    def reached_goal(self, state):\n",
        "        \n",
        "        for i in range(3):\n",
        "            for j in range(3):\n",
        "                if state[i,j] != self.goal_state[i,j]:\n",
        "                    return False\n",
        "        \n",
        "        return True"
      ],
      "metadata": {
        "id": "LJRf8uVOdyRd"
      },
      "execution_count": 4,
      "outputs": []
    },
    {
      "cell_type": "code",
      "source": [
        "class Agent:\n",
        "    \n",
        "    def __init__(self, env, heuristic):\n",
        "        self.frontier = PriorityQueue()\n",
        "        self.explored = dict()\n",
        "        self.start_state = env.get_start_state()\n",
        "        self.goal_state = env.get_goal_state()\n",
        "        self.env = env\n",
        "        self.goal_node = None\n",
        "        self.heuristic = heuristic\n",
        "    \n",
        "    def run(self):\n",
        "        init_node = Node(parent = None, state = self.start_state, pcost = 0, hcost=0)\n",
        "        self.frontier.push(init_node)\n",
        "        steps = 0\n",
        "        while not self.frontier.is_empty():\n",
        "\n",
        "            curr_node = self.frontier.pop()\n",
        "            #print(curr_node.cost)\n",
        "            next_states = self.env.get_next_states(curr_node.state)\n",
        "\n",
        "            if hash(curr_node) in self.explored:\n",
        "                continue\n",
        "\n",
        "            self.explored[hash(curr_node)] = curr_node\n",
        "\n",
        "            if self.env.reached_goal(curr_node.state):\n",
        "                #print(\"Reached goal!\")\n",
        "                self.goal_node = curr_node\n",
        "                break\n",
        "            goal_state = self.env.get_goal_state()\n",
        "\n",
        "            l = []\n",
        "            for state in next_states:\n",
        "\n",
        "                hcost = self.heuristic(state, goal_state)\n",
        "                node = Node(parent=curr_node, state=state, pcost=curr_node.pcost+1, hcost=hcost)\n",
        "                self.frontier.push(node)\n",
        "            steps += 1\n",
        "        \n",
        "        \n",
        "        return steps, self.soln_depth()\n",
        "    \n",
        "    def soln_depth(self):\n",
        "        node = self.goal_node\n",
        "        count = 0\n",
        "        while node is not None:\n",
        "            node = node.parent\n",
        "            count+=1\n",
        "        \n",
        "        return count\n",
        "    \n",
        "    def print_nodes(self):\n",
        "        \n",
        "        node = self.goal_node\n",
        "        l = []\n",
        "        while node is not None:\n",
        "            l.append(node)\n",
        "            node = node.parent\n",
        "\n",
        "        step = 1\n",
        "        for node in l[::-1]:\n",
        "            print(\"Step: \",step)\n",
        "            print(node)\n",
        "            step+=1\n",
        "    \n",
        "    def get_memory(self):\n",
        "        \n",
        "        mem = len(self.frontier)*56 + len(self.explored)*56\n",
        "        return mem"
      ],
      "metadata": {
        "id": "QlMR1XF_d0YE"
      },
      "execution_count": 5,
      "outputs": []
    },
    {
      "cell_type": "markdown",
      "source": [
        "Heuristic 0\n",
        "This is a null heuristic, returns 0 for any state. Essentially uniform cost search."
      ],
      "metadata": {
        "id": "KmODP1tad2ou"
      }
    },
    {
      "cell_type": "code",
      "source": [
        "def heuristic0(curr_state, goal_state):\n",
        "    return 0"
      ],
      "metadata": {
        "id": "yBdR4Gcwd4K1"
      },
      "execution_count": 6,
      "outputs": []
    },
    {
      "cell_type": "markdown",
      "source": [
        "Heuristic 1\n",
        "This heuristic counts the number of misplaced tiles"
      ],
      "metadata": {
        "id": "HjVUa1zFd6aF"
      }
    },
    {
      "cell_type": "code",
      "source": [
        "def heuristic1(curr_state, goal_state):\n",
        "    \n",
        "    count = 0\n",
        "    for i in range(3):\n",
        "        for j in range(3):\n",
        "            if curr_state[i, j]!=goal_state[i,j]:\n",
        "                count+=1\n",
        "    \n",
        "    return count"
      ],
      "metadata": {
        "id": "oFOPujMed7BH"
      },
      "execution_count": 7,
      "outputs": []
    },
    {
      "cell_type": "markdown",
      "source": [
        "Heuristic 2\n",
        "This is the manhattan distance, it returns the sum of the horizontal and vertical distances of the all marble in current state from center."
      ],
      "metadata": {
        "id": "j_-zXJpid-l-"
      }
    },
    {
      "cell_type": "code",
      "source": [
        "def heuristic2(curr_state, goal_state):\n",
        "    \n",
        "    dist = 0\n",
        "\n",
        "    for i in range(3):\n",
        "        for j in range(3):\n",
        "            ele = curr_state[i, j]\n",
        "            goal_i, goal_j = np.where(goal_state==ele)\n",
        "            d = abs(goal_i[0] - i) + abs(goal_j[0] - j)\n",
        "            dist += d\n",
        "    \n",
        "    return dist"
      ],
      "metadata": {
        "id": "8K4kVlpPd_KO"
      },
      "execution_count": 8,
      "outputs": []
    },
    {
      "cell_type": "code",
      "source": [
        "depth = 500\n",
        "goal_state = np.array([[1,2,3], [8,'_',4], [7,6,5]])\n",
        "env = Environment(depth, goal_state)\n",
        "print(\"Start State: \")\n",
        "print(env.get_start_state())\n",
        "print(\"Goal State: \")\n",
        "print(goal_state)"
      ],
      "metadata": {
        "colab": {
          "base_uri": "https://localhost:8080/"
        },
        "id": "o3-3GWnBeBxk",
        "outputId": "345dddcb-2e39-445f-9ce3-4098d0aec200"
      },
      "execution_count": 9,
      "outputs": [
        {
          "output_type": "stream",
          "name": "stdout",
          "text": [
            "Start State: \n",
            "[['1' '3' '7']\n",
            " ['4' '8' '5']\n",
            " ['_' '6' '2']]\n",
            "Goal State: \n",
            "[['1' '2' '3']\n",
            " ['8' '_' '4']\n",
            " ['7' '6' '5']]\n"
          ]
        }
      ]
    },
    {
      "cell_type": "code",
      "source": [
        "agent = Agent(env = env, heuristic = heuristic2)\n",
        "agent.run()"
      ],
      "metadata": {
        "colab": {
          "base_uri": "https://localhost:8080/"
        },
        "id": "mhC38hlqeEdE",
        "outputId": "08dd413b-7c15-407a-b8b0-ce69ab5cb13c"
      },
      "execution_count": 10,
      "outputs": [
        {
          "output_type": "execute_result",
          "data": {
            "text/plain": [
              "(777, 23)"
            ]
          },
          "metadata": {},
          "execution_count": 10
        }
      ]
    },
    {
      "cell_type": "code",
      "source": [
        "agent.print_nodes()"
      ],
      "metadata": {
        "colab": {
          "base_uri": "https://localhost:8080/"
        },
        "id": "WqP7mCLvgjTc",
        "outputId": "6258fb7b-eec0-4e9e-8685-78282f26f069"
      },
      "execution_count": 12,
      "outputs": [
        {
          "output_type": "stream",
          "name": "stdout",
          "text": [
            "Step:  1\n",
            "[['_' '2' '1']\n",
            " ['5' '3' '8']\n",
            " ['7' '6' '4']]\n",
            "Step:  2\n",
            "[['2' '_' '1']\n",
            " ['5' '3' '8']\n",
            " ['7' '6' '4']]\n",
            "Step:  3\n",
            "[['2' '3' '1']\n",
            " ['5' '_' '8']\n",
            " ['7' '6' '4']]\n",
            "Step:  4\n",
            "[['2' '3' '1']\n",
            " ['_' '5' '8']\n",
            " ['7' '6' '4']]\n",
            "Step:  5\n",
            "[['2' '3' '1']\n",
            " ['7' '5' '8']\n",
            " ['_' '6' '4']]\n",
            "Step:  6\n",
            "[['2' '3' '1']\n",
            " ['7' '5' '8']\n",
            " ['6' '_' '4']]\n",
            "Step:  7\n",
            "[['2' '3' '1']\n",
            " ['7' '_' '8']\n",
            " ['6' '5' '4']]\n",
            "Step:  8\n",
            "[['2' '3' '1']\n",
            " ['7' '8' '_']\n",
            " ['6' '5' '4']]\n",
            "Step:  9\n",
            "[['2' '3' '_']\n",
            " ['7' '8' '1']\n",
            " ['6' '5' '4']]\n",
            "Step:  10\n",
            "[['2' '_' '3']\n",
            " ['7' '8' '1']\n",
            " ['6' '5' '4']]\n",
            "Step:  11\n",
            "[['2' '8' '3']\n",
            " ['7' '_' '1']\n",
            " ['6' '5' '4']]\n",
            "Step:  12\n",
            "[['2' '8' '3']\n",
            " ['7' '1' '_']\n",
            " ['6' '5' '4']]\n",
            "Step:  13\n",
            "[['2' '8' '3']\n",
            " ['7' '1' '4']\n",
            " ['6' '5' '_']]\n",
            "Step:  14\n",
            "[['2' '8' '3']\n",
            " ['7' '1' '4']\n",
            " ['6' '_' '5']]\n",
            "Step:  15\n",
            "[['2' '8' '3']\n",
            " ['7' '1' '4']\n",
            " ['_' '6' '5']]\n",
            "Step:  16\n",
            "[['2' '8' '3']\n",
            " ['_' '1' '4']\n",
            " ['7' '6' '5']]\n",
            "Step:  17\n",
            "[['2' '8' '3']\n",
            " ['1' '_' '4']\n",
            " ['7' '6' '5']]\n",
            "Step:  18\n",
            "[['2' '_' '3']\n",
            " ['1' '8' '4']\n",
            " ['7' '6' '5']]\n",
            "Step:  19\n",
            "[['_' '2' '3']\n",
            " ['1' '8' '4']\n",
            " ['7' '6' '5']]\n",
            "Step:  20\n",
            "[['1' '2' '3']\n",
            " ['_' '8' '4']\n",
            " ['7' '6' '5']]\n",
            "Step:  21\n",
            "[['1' '2' '3']\n",
            " ['8' '_' '4']\n",
            " ['7' '6' '5']]\n"
          ]
        }
      ]
    },
    {
      "cell_type": "code",
      "source": [
        "depths = np.arange(0,501,50)\n",
        "goal_state = np.array([[1,2,3], [8,'_',4], [7,6,5]])\n",
        "times_taken = {}\n",
        "mems = {}\n",
        "for depth in depths:\n",
        "    \n",
        "    time_taken = 0\n",
        "    mem = 0\n",
        "    for i in range(50):\n",
        "        env = Environment(depth=depth, goal_state=goal_state)\n",
        "        agent = Agent(env = env, heuristic = heuristic2)\n",
        "        start_time = time()\n",
        "        agent.run()\n",
        "        end_time = time()\n",
        "        time_taken+=end_time - start_time\n",
        "        mem+=agent.get_memory()\n",
        "    \n",
        "    time_taken/=50\n",
        "    mem = mem/50\n",
        "    times_taken[depth] = time_taken\n",
        "    mems[depth] = mem\n",
        "    print(depth, time_taken, mem)\n"
      ],
      "metadata": {
        "colab": {
          "base_uri": "https://localhost:8080/"
        },
        "id": "NifOUXJReHnN",
        "outputId": "b1a9bec5-8642-405f-efbd-ee5edba53b69"
      },
      "execution_count": 11,
      "outputs": [
        {
          "output_type": "stream",
          "name": "stdout",
          "text": [
            "0 7.346153259277344e-05 56.0\n",
            "50 0.02408447742462158 12659.36\n",
            "100 0.1009417200088501 41074.88\n",
            "150 0.5029793834686279 97952.96\n",
            "200 0.6312635564804077 113785.28\n",
            "250 0.8665931510925293 147300.16\n",
            "300 0.46281589031219483 108028.48\n",
            "350 0.5313785123825073 120244.32\n",
            "400 0.969258394241333 148998.08\n",
            "450 1.3145047616958618 182076.16\n",
            "500 0.44059967041015624 108234.56\n"
          ]
        }
      ]
    }
  ]
}